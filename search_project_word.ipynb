{
 "cells": [
  {
   "cell_type": "code",
   "execution_count": 1,
   "metadata": {},
   "outputs": [],
   "source": [
    "import jiagu \n",
    "import jieba \n",
    "import pkuseg \n",
    "import genius \n",
    "import jieba.posseg as jieb_seg\n",
    "from sklearn.metrics.pairwise import euclidean_distances as distance\n",
    "\n",
    "import pandas as pd \n",
    "import sys \n",
    "\n",
    "import json\n",
    "from tencentcloud.common import credential\n",
    "from tencentcloud.common.profile.client_profile import ClientProfile\n",
    "from tencentcloud.common.profile.http_profile import HttpProfile\n",
    "from tencentcloud.common.exception.tencent_cloud_sdk_exception import TencentCloudSDKException\n",
    "from tencentcloud.nlp.v20190408 import nlp_client, models"
   ]
  },
  {
   "cell_type": "code",
   "execution_count": 2,
   "metadata": {},
   "outputs": [],
   "source": [
    "import warnings\n",
    "warnings.filterwarnings('ignore')"
   ]
  },
  {
   "cell_type": "code",
   "execution_count": 3,
   "metadata": {},
   "outputs": [],
   "source": [
    "class word_obj:\n",
    "    \n",
    "    def __init__(self, word, *seg_results):\n",
    "        self.word = word \n",
    "        self.is_n = sum([item == 'n' for item in seg_results]) >= 2 \n",
    "        self.is_cn = all(item != 'eng' for item in seg_results) and all(not char.isdigit() for char in word)\n",
    "        \n",
    "    def __repr__(self):\n",
    "        return self.word \n",
    "    \n",
    "    __str__ = __repr__ \n",
    "\n",
    "    \n",
    "class vector_obj:\n",
    "    \n",
    "    def __init__(self, id_, title, vector):\n",
    "        self.id = id_ \n",
    "        self.title = title \n",
    "        self.vector = vector \n",
    "        \n",
    "    def __repr__(self):\n",
    "        return f'{self.id} {self.title}'\n",
    "    \n",
    "    __str__ = __repr__ \n",
    "\n",
    "\n",
    "def get_tencent_client():\n",
    "    with open('api_keys.txt', 'r') as filein: \n",
    "        api_id = filein.readline().partition(':')[-1].strip()\n",
    "        api_secret = filein.readline().partition(':')[-1].strip()\n",
    "    cred = credential.Credential(api_id, api_secret) \n",
    "    httpProfile = HttpProfile()\n",
    "    httpProfile.endpoint = \"nlp.tencentcloudapi.com\"\n",
    "\n",
    "    clientProfile = ClientProfile()\n",
    "    clientProfile.httpProfile = httpProfile\n",
    "    client = nlp_client.NlpClient(cred, \"ap-guangzhou\", clientProfile) \n",
    "    return client "
   ]
  },
  {
   "cell_type": "code",
   "execution_count": 4,
   "metadata": {},
   "outputs": [],
   "source": [
    "client = get_tencent_client()\n",
    "word_request = models.WordEmbeddingRequest() \n",
    "\n",
    "items = pd.read_csv('items.csv')\n",
    "\n",
    "title_vectors = [] \n",
    "all_word_vector = {}\n",
    "does_not_exist = set()\n",
    "pku_seg = pkuseg.pkuseg(postag=True)\n",
    "\n",
    "total_rows = items.shape[0]"
   ]
  },
  {
   "cell_type": "code",
   "execution_count": 5,
   "metadata": {},
   "outputs": [],
   "source": [
    "def generate_avg_vector(query, does_not_exist=None, all_word_vector=None):\n",
    "    global client, word_request\n",
    "    \n",
    "    if does_not_exist is None: \n",
    "        does_not_exist = set() \n",
    "        all_word_vector = dict()\n",
    "    temp_result = []\n",
    "    try:\n",
    "        segment_list = list(filter(lambda item: item != ' ', jieba.lcut_for_search(query)))\n",
    "    except: \n",
    "        continue \n",
    "    # get part of speech, vote for noun and chinese\n",
    "    for word in segment_list:\n",
    "        jieba_pos = jieb_seg.lcut(word)\n",
    "        jiagu_pos = jiagu.pos([word])\n",
    "        pku_pos = pku_seg.cut(word)\n",
    "        try:\n",
    "            temp_result.append(word_obj(word, jieba_pos[0].flag, jiagu_pos[0], pku_pos[0][1]))\n",
    "        except:\n",
    "            continue\n",
    "    result_cleaned = list(filter(lambda item: item.is_n and item.is_cn, temp_result))\n",
    "    # fetch vector for each word\n",
    "    vector_list = []\n",
    "    for word_ins in result_cleaned: \n",
    "        current_word = word_ins.word\n",
    "        if current_word in does_not_exist: \n",
    "            continue \n",
    "        elif current_word in all_word_vector.keys():\n",
    "            word_vector = all_word_vector[current_word]\n",
    "        else:\n",
    "            try:\n",
    "                params = {'Text': current_word}\n",
    "                word_request.from_json_string(json.dumps(params))\n",
    "                current_response = client.WordEmbedding(word_request)\n",
    "                word_vector = json.loads(current_response.to_json_string())['Vector']\n",
    "            except TencentCloudSDKException as error:\n",
    "                print(f'\\rreached exception with inner {error}')\n",
    "                does_not_exist.add(title)\n",
    "                continue\n",
    "            except: \n",
    "                client = get_tencent_client()\n",
    "        all_word_vector[current_word] = word_vector\n",
    "        vector_list.append(word_vector)\n",
    "    \n",
    "    query_vector = list(map(lambda item: round( sum(item)/len(item) , 5), zip(*vector_list)))\n",
    "    return query_vector"
   ]
  },
  {
   "cell_type": "code",
   "execution_count": 9,
   "metadata": {},
   "outputs": [
    {
     "name": "stdout",
     "output_type": "stream",
     "text": [
      "                                                                                                                                                                                                                                                                                                                                                                                                                                                                                                                                                                                                                                                                                                                                                                                                                                                                                                                                                                                                                                                                                                                                                                                                                                                                                                                                                                                                                                                                                                                                                                                                                                                                                                                                                                                                                                                                                                                                                                                                                                                                                                                                                                                                                                                                                                                                                                                                                                                                                                                                                                                                                                                                                                                                                                                                                                                                                                                                                                                                                                                                                                                                                                                                                                                                                                                                                                                                                                                                                                                                                                                                                                                                                                                                                                                                                                                                                                                                                                                                                                                                                                                                                                                                                                                                                                                                                                                                                                                                                                                                                                                                                                                                                                                                                                                                                                                                                                                                                                                                                                                                                                                                                                                                                                                                                                                                                                                                                                                                                                                                                                                                                                                                                                                                                                                                                                                                                                                                                                                                                                                                                                                                                                                                                                                                                                                                                                                                                                                                                                                                                                                                                                                                                                                                                                                                                                                                                                                                                                                                                                                                                                                                                                                                                                                                                                                                                                                                                                                                                                                                                                                                                                                                                                                                                                                                                                                                                                                                                                                                                                                                                                                                                                                                                                                                                                                                                                                                                                                                                                                                                                                                                                                                                                                                                                                                                                                                                                                                                                                                                                                                                                                                                                                                                                                                                                                                                                                                                                                                                                                                                                                                                                                                                                                                                                                                                                                                                      9497/9498, segmenting echo buds 真无线降噪耳机                                                                                                                     "
     ]
    }
   ],
   "source": [
    "for series in items.iterrows(): \n",
    "    current_index, series = series \n",
    "    id_, title, *_ = series \n",
    "    if current_index < previous_index+1:\n",
    "        continue \n",
    "    else:\n",
    "        previous_index = current_index\n",
    "    print(f'\\r{current_index:>{total_rows}}/{total_rows}, segmenting {title}', end='  '*50, flush=True)\n",
    "    vector = generate_avg_vector(title, does_not_exist, all_word_vector)\n",
    "    title_vectors.append(vector_obj(id_, title, vector))"
   ]
  },
  {
   "cell_type": "code",
   "execution_count": 17,
   "metadata": {},
   "outputs": [],
   "source": [
    "def search_title(query):\n",
    "    global title_vectors \n",
    "    \n",
    "    title_distance = []\n",
    "    vector = generate_avg_vector(query)\n",
    "    for vector_object in title_vectors: \n",
    "        if vector_object.vector:\n",
    "            euclidean = distance([vector, vector_object.vector])[0].sum() \n",
    "            title_distance.append((vector_object.title, euclidean))\n",
    "    title_distance.sort(key=lambda item: item[-1])\n",
    "\n",
    "    return title_distance[:20]"
   ]
  },
  {
   "cell_type": "code",
   "execution_count": 26,
   "metadata": {},
   "outputs": [
    {
     "data": {
      "text/plain": [
       "[('b&o 音响', 2.1073424255447017e-08),\n",
       " ('小音响', 2.1073424255447017e-08),\n",
       " ('bose companion series音响', 2.1073424255447017e-08),\n",
       " ('Bose C2S2 音响', 2.1073424255447017e-08),\n",
       " ('marshall蓝牙音响', 2.1073424255447017e-08),\n",
       " ('蓝牙音响', 2.1073424255447017e-08),\n",
       " ('marshall 音响', 2.1073424255447017e-08),\n",
       " ('全新蓝牙音响', 2.1073424255447017e-08),\n",
       " ('Beosound balance音响', 2.1073424255447017e-08),\n",
       " ('音响 Crate DSP on Board BFX15 Guitar Amp', 2.1073424255447017e-08),\n",
       " ('Bose音响！', 2.1073424255447017e-08),\n",
       " ('一对音响', 2.1073424255447017e-08),\n",
       " ('JBL extreme 音响', 2.1073424255447017e-08),\n",
       " ('ue boom2 蓝牙音响', 2.1073424255447017e-08),\n",
       " ('Jawbone Mini Jambox 蓝牙小音响', 2.1073424255447017e-08),\n",
       " ('罗技的mini音响', 2.1073424255447017e-08),\n",
       " ('小音响', 2.1073424255447017e-08),\n",
       " ('Beoplay 蓝牙音响', 2.1073424255447017e-08),\n",
       " ('harman kardon音响 可蓝牙', 2.1073424255447017e-08),\n",
       " ('Bose音响', 2.1073424255447017e-08)]"
      ]
     },
     "execution_count": 26,
     "metadata": {},
     "output_type": "execute_result"
    }
   ],
   "source": [
    "search_title('音响')"
   ]
  },
  {
   "cell_type": "code",
   "execution_count": 27,
   "metadata": {},
   "outputs": [
    {
     "data": {
      "text/plain": [
       "[('bose音箱', 2.1073424255447017e-08),\n",
       " ('日本TDK蓝牙音箱再降价', 2.1073424255447017e-08),\n",
       " ('全新篮芽音箱', 2.1073424255447017e-08),\n",
       " ('UE Megaboom 蓝牙音箱', 2.1073424255447017e-08),\n",
       " ('三防蓝牙音箱', 2.1073424255447017e-08),\n",
       " ('miniso蓝牙音箱', 2.1073424255447017e-08),\n",
       " ('sony蓝牙音箱', 2.1073424255447017e-08),\n",
       " ('蓝牙音箱', 2.1073424255447017e-08),\n",
       " ('Marshall 音箱', 2.1073424255447017e-08),\n",
       " ('Focal alpha 50 5寸监听音箱', 2.1073424255447017e-08),\n",
       " ('全新jbl pulse 3蓝牙音箱', 2.1073424255447017e-08),\n",
       " ('可变色伸缩蓝牙小音箱', 2.1073424255447017e-08),\n",
       " ('sony 防水音箱 音质', 0.3307952924392974),\n",
       " ('Jackson电吉他＋crate音箱', 0.43056739263441746),\n",
       " ('ibanez电吉他+音箱', 0.43056739263441746),\n",
       " ('bose电脑音箱', 0.4726130044761787),\n",
       " ('谷歌智能蓝牙音箱google home mini', 0.5163068607911392),\n",
       " ('电视音响带低音炮', 0.5395692768310669),\n",
       " ('b&o 音响', 0.6087238178353138),\n",
       " ('小音响', 0.6087238178353138)]"
      ]
     },
     "execution_count": 27,
     "metadata": {},
     "output_type": "execute_result"
    }
   ],
   "source": [
    "search_title('音箱')"
   ]
  },
  {
   "cell_type": "code",
   "execution_count": 18,
   "metadata": {},
   "outputs": [
    {
     "data": {
      "text/plain": [
       "[('sony索尼xb950n1降噪无线耳机', 0.0),\n",
       " ('耳机', 0.0),\n",
       " ('AirPods 2 无线充耳机', 0.0),\n",
       " ('AirPods 2 无线充耳机', 0.0),\n",
       " ('Bose 耳机', 0.0),\n",
       " ('蓝牙耳机', 0.0),\n",
       " ('Samsung 蓝牙耳机再降价', 0.0),\n",
       " ('蓝牙耳机', 0.0),\n",
       " ('JBL reflect flow无线蓝牙耳机', 0.0),\n",
       " ('耳机', 0.0),\n",
       " ('iphone 耳机', 0.0),\n",
       " ('Beats Studio 耳机', 0.0),\n",
       " ('挥泪降价！全新Microsoft Surface Headphones耳机，多买 免税 降价', 0.0),\n",
       " ('全新未开封耳机', 0.0),\n",
       " ('Sony WH-ch700n 降噪耳机', 0.0),\n",
       " ('sony 耳机 无线降噪', 0.0),\n",
       " ('Logitech 耳机', 0.0),\n",
       " ('无线耳机', 0.0),\n",
       " ('AKG Y50蓝牙耳机', 0.0),\n",
       " ('beats耳机', 0.0)]"
      ]
     },
     "execution_count": 18,
     "metadata": {},
     "output_type": "execute_result"
    }
   ],
   "source": [
    "search_title('无线耳机')"
   ]
  },
  {
   "cell_type": "code",
   "execution_count": 19,
   "metadata": {},
   "outputs": [
    {
     "data": {
      "text/plain": [
       "[('屏幕架', 0.0),\n",
       " ('非常实用的屏幕', 0.0),\n",
       " ('带鱼屏 21:9屏幕 ultrawide 屏幕', 0.3793799205282214),\n",
       " ('带鱼屏 21:9屏幕 ultrawide 屏幕', 0.3793799205282214),\n",
       " ('27英寸电脑屏幕', 0.3999659523009424),\n",
       " ('Dell U2518D 显示器 2K 分辨率 25寸 屏幕可旋转', 0.43551706372999904),\n",
       " ('三星显示器 1080p 32寸 曲面屏幕', 0.4631583222829963),\n",
       " ('买屏幕送主机', 0.4954157102878345),\n",
       " ('电脑屏幕VGA线', 0.5272210395080987),\n",
       " ('MSI电竞显示器 144hz 1080p 曲面屏幕', 0.5291348689133987),\n",
       " ('iPhone XS / X 屏幕保护膜', 0.5426172835433828),\n",
       " ('Dell 27寸显示屏', 0.5547113230320793),\n",
       " ('Dell P2317H显示屏', 0.5547113230320793),\n",
       " ('Acer 显示屏', 0.5547113230320793),\n",
       " ('Acer 21.5 inch 显示屏', 0.5547113230320793),\n",
       " ('HP 25寸超薄显示屏', 0.5547113230320793),\n",
       " ('LG特宽显示屏', 0.5547113230320793),\n",
       " ('只用了八个月的显示屏便宜卖', 0.5547113230320793),\n",
       " ('显示屏', 0.5547113230320793),\n",
       " ('显示屏', 0.5547113230320793)]"
      ]
     },
     "execution_count": 19,
     "metadata": {},
     "output_type": "execute_result"
    }
   ],
   "source": [
    "search_title('屏幕')"
   ]
  },
  {
   "cell_type": "code",
   "execution_count": 23,
   "metadata": {},
   "outputs": [
    {
     "data": {
      "text/plain": [
       "[('文具', 0.0),\n",
       " ('布朗熊文具盒', 0.3751543369068249),\n",
       " ('文具盒', 0.3751543369068249),\n",
       " ('出 一堆笔芯 铅笔 文具', 0.5097738736930327),\n",
       " ('一堆文具加一个玻璃杯 可以用来喝水也可以用来放文具', 0.5137868710856673),\n",
       " ('三层柜/文具架各5$', 0.5284234337158034),\n",
       " ('3刀带走！能开文具店的笔量', 0.5394484107864255),\n",
       " ('文具套装', 0.5695852304089355),\n",
       " ('可爱文具袋化妆袋', 0.5803766742383776),\n",
       " ('各种文具1刀一个，买五送一', 0.6180662012276679),\n",
       " ('笔袋 全新', 0.6496433691649597),\n",
       " ('铅笔盒', 0.6858049511340669),\n",
       " ('书包，几乎全新送笔芯', 0.696365203969871),\n",
       " ('晨光套尺4件，全新，孔庙祈福款，赠同款笔芯+橡皮', 0.698206655725939),\n",
       " ('桌面文件文具收纳架', 0.7179207140764223),\n",
       " ('文具全家桶', 0.7195946732710019),\n",
       " ('今日取给钱就卖全新各种文具 文件夹本子笔橡皮等等 数量很多可实地挑选', 0.7318973094635614),\n",
       " ('买铅笔送橡皮笔帽', 0.7408637428704417),\n",
       " ('化妆品收纳盒', 0.7451504290410091),\n",
       " ('化妆品收纳盒', 0.7451504290410091)]"
      ]
     },
     "execution_count": 23,
     "metadata": {},
     "output_type": "execute_result"
    }
   ],
   "source": [
    "search_title('上学的文具')"
   ]
  },
  {
   "cell_type": "code",
   "execution_count": null,
   "metadata": {},
   "outputs": [],
   "source": []
  },
  {
   "cell_type": "code",
   "execution_count": null,
   "metadata": {},
   "outputs": [],
   "source": []
  },
  {
   "cell_type": "code",
   "execution_count": null,
   "metadata": {},
   "outputs": [],
   "source": []
  },
  {
   "cell_type": "code",
   "execution_count": null,
   "metadata": {},
   "outputs": [],
   "source": []
  }
 ],
 "metadata": {
  "kernelspec": {
   "display_name": "Python 3",
   "language": "python",
   "name": "python3"
  },
  "language_info": {
   "codemirror_mode": {
    "name": "ipython",
    "version": 3
   },
   "file_extension": ".py",
   "mimetype": "text/x-python",
   "name": "python",
   "nbconvert_exporter": "python",
   "pygments_lexer": "ipython3",
   "version": "3.6.9"
  }
 },
 "nbformat": 4,
 "nbformat_minor": 4
}
